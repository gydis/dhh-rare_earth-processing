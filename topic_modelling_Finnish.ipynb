{
 "cells": [
  {
   "cell_type": "code",
   "execution_count": 29,
   "id": "7048185c-8abd-4c73-9adc-7013e0993c9e",
   "metadata": {},
   "outputs": [],
   "source": [
    "# For preprocessed texts!!!\n",
    "from sentence_transformers import SentenceTransformer\n",
    "from bertopic import BERTopic\n",
    "import pandas as pd\n"
   ]
  },
  {
   "cell_type": "code",
   "execution_count": 9,
   "id": "a06f3fc6-8db4-4614-abf3-f4ed561a7fe8",
   "metadata": {},
   "outputs": [],
   "source": [
    "docs = ['harvinainen maa#metalli olla tärkeä akku#teknologia', 'kaivos#toiminta vaikuttaa ympäristö', 'valtio tukea vihreä siirtymä harvinainen mineraali', 'hallitus haluta saada asunto#omaisuus sidoa pää#oma liikkeelle erityisesti kasvu#keskus varallisuus olla tuntuvasti kiinni ikä#ihminen velaton asunto yksi puoli#väli#riihi kasvu#toimi hallitus käynnistää erillinen selvitys keino joka käänteinen asunto#laina suosio voida lisätä valtio#varain#ministeriö rahoitus#markkina#osasto osoittaa kysymys ilmetä että puoli#väli#riihi neuvottelija olla haluta selvittää voida ylin#vuotias tarjota uudenlainen kannustin käänteinen asunto#laina menekki lisääminen ilma heittää ajatus esimerkiksi valtio tukea korko#katto ja rajata valtion#takaus jotta korko#meno pysyä kohtuullinen selvitys#työ valtio#varain#ministeriö olla vasta aluillaan', 'Suomi hallitus joutua ensimmäinen kerta punnita luonto#arvo talous vastaan sakatti kaivos osa kun se pohtia hanke tulevaisuus tammikuinen kokous valtio#neuvosto yleisistunto päättää tuolloin olla vastustaa anglomericann#yhtiö sodan#kylä sakatti kaivos#hanke hakemus eu strateginen hanke valtio#neuvosto lähestymis#tapa tämä asia olla se että jos hanke se hakea niin minä ei olla peruste kansallisesti se enempää sakatti kuin mikään muu hanke tämä vaihe prosessi vastustaa elin#keino#ministeri wille rydman ps sanoa sttn haastattelu maaliskuu eu#komissio myöntää sakatti strateginen hanke asema joka myötä se olla oikeuttaa muun muassa nopeutettu lupaprosessi strateginen asema myöntäminen voida myös edistää hanke asema lintu#mluonto ja vesi#puite#direktiivi mukainen poikkeus#harkinta sakatti osa asia olla keskeinen koska kaivo olla kaavailla soiden#suojelulat ja natura#alue suojella viian#kiaava suo alle kaivos#toiminta aloittaminen suo tuntuma keskeinen riski olla pohja#vesi taso laskeminen mikä saattaa johtaa suo kuivuminen rydman vakuuttaa että strateginen hanke asema ei heikentää ympäristön#suojelu taso kansallisesti varsinainen poliittinen harkinta paikka tulla sakatti osa vasta myöhä vaihe alustaa arviointi olla tehdä mutta tämä ei olla olla se päätöksen#teko paikka jäsen#valtio olla oikeus vastustaa asema myöntäminen ja siten estää strateginen asema saaminen eu kriittinen raaka#aine asetus mukaan strategisesti tärkeä hanke lista pääseminen edellyttää muun muassa hanke kestävä toteutettavuus erityisesti ympäristö#vaikutus ehkäiseminen ja minimointi näkö#kulma suomi olla voida vastustaa sakatti valitseminen hankelista mikäli se olla esimerkiksi nähdä että ei kaivos voida saada toiminta tarvita ympäristö#lupa suomi hallitus voida myöntää poikkeus natura#alue luonnon#arvo merkittävästi heikentää hanke jos se olla toteuttaa erittäin tärkeä yleinen etu kanta pakottava syy ei vaihto#ehtoinen ratkaisu olla eu strateginen hanke asema katsoa täyttää erittäin tärkeä yleinen etu kriteeri', 'miljardi arvo uusi kaivos#hanke sodan#kylä suuri ikkari kulta#kaivo#shanke ja sakatti viian#kiaava nikkeli#kupari#kaivos#hanke ranu suhanko suomi suuri platina#ryhmä kaivos#hanke kuusamo kulta#koboltti#uraani kaivos#hanke kajaani otan#mäki rauta#taani#vanadanadi kaivos#hanke ja talkki#kaivos#hanke outo#kummu nikkeli#kupari#koboltti kaivos#hanke yli#tornio kulta#uraani kaivos#hanke sokli valtava apulanta#kaivos#hanke maa#metalli mutta norja tehdä kilpaileva hanke itse ja rakenne olla keliber litium#kaivkaivenke louhiminen ja rakentaminen vuosi#kymmen rauta#vesi olla miljardi arvoinen skandiu#mesiintymä lukuinen muu hanke vireillä myös', 'pohjois-suomi alue#hallinto#virasto peruuttaa tiistai raahi laiva#kangas kulta#kaivos ympäristö#lupa kaivo pitää laiva golds#yhtiö olla alue#hallinto#virasto mukaan rikkoa lupa#määräys vuosi aika ja pilata ympäristö ympäristö#lupa#määräys rikkominen olla virasto mukaan pilata sekä maa#perä että pohja#vesi osa#syy olla olla kaivos#yhtiö vaikea taloudellinen tilanne se olla olla vaikeus hoitaa sähkö#mesi ja tarkkailu#maksu kaivos ympäristö#lupa peruuttaminen olla suomi melko harvinainen laiva#kangas kulta#kaivos omistaja olla vaihtua usea kerta kaivos#toiminta olla olla keskeytys vuosi helmikuu alkaen ja kaivos olla olla ylläpito#tila laiva gold tulla esittää alue#hallinto#virasto kaivos lopettamis#suunnitelma viimeistään puoli vuosi kulua', 'lain#säädäntö löysä suhtautuminen kaivo#sala olla mitä suuri määrin keskusta aikaansaan#saano syrjäinen maalais#pitäjä ja taloudellisesti heikosti kehittyä seutu mikä hyvänsä elin#keino#hanke saaminen ehto ja hinta mikä hyvänsä olla keppu iki#aikainen politiikka ääni eli valta varmistaminen tuo koskea kaikki muu kuin kaivo#sala osa vieläpä uskoa että kaivos olla kunni pelastaja ulko#maa tuoda työ#voima ei paljonkaan kunta kassa lihota ei valtio kertyä hyötyjä yli#kansallinen yhtiö riistää maa#perä rikkaus ilmainen ja yhtiö vero maksaa jälkeen jäädä tuhota luonto jäte#kivi#kasa ja myrkky vuoda jäte#allas takuu#mies olla pohjoinen ja idän#sely ym. poliittisesti valita virka#mies#johto lupa tulla kaivos#yhtiö toive mukaisesti ja valvonta olla löperö kaivos tarvita tie ja rata tehdä valtio raha kaivos#ala olla suomi kansan#talous kanta kulu ei tuotto', 'olla loveson kanssa sama mieli miksi merkillinen kaikki suomi kaivea malmi#vara mennä ulko#maa ruotsalainen bolidenk muutama vuosi sitten kotiuttaa ruotsi yli miljoona tuotto veros suomi lappi olla minä poliitikko ihan pehmeä pää miksi ei kukaan virka#mies tämä asia avautua olla kaivos#ala joku sisäänlämpiä porukka ihan maailman#laajuisesti', 'olla aika erikoinen jos vapaa#aika asukas toivottaa kaivos terve#tulla lähi#seutu olla aika vaikea nähdä se syntyä merkittävä etu vakinainen asukas ja kauempana kunta asua etu voida olla talous#vaikutus vuoksi aika erilainen olla kovin itsekäs ja huono ajatus todeta että suomi maa#perä mineraali ei saada hyödyntää enemmän pitää keskittyä se pohtiminen miten ympäristö#haita minimoida ja lisä#arvo yhteis#kunta maksimoida esimerkiksi avolouhos ja maan#alainen kaivos vaikutus olla erilainen erilainen tapa käsitellä mineraali vaatia erilainen vesi käsittely liikenne#haitta vaihdella ja riippua liikenne#yhteys ympäristö voida huolehtia hyvin tai huonosti kaivos olla tietenkin mahdollinen koko skaala raha muu haitta minä minimi#vaatimus mennä - linja alkaen se ei tietenkään olla suomi tai ympäristö etu joten vaatimus#taso pitää säilyttää ajatus voida olla vaikka se että suomi olla maailma puhdas kaivos ymmärtää edelleen mökkiläinen jyrkkä kanta silti paukku olla hyvä laittaa kaivos luvittaminen kuin malminetsintä#lupa torppaaminen', 'sähköinen varaus#ilmoitus tekeminen tukes ei maksaa mikään mutta itse varaus#päätös maksaa alle km alue ja yli km alue toisaalta tämä tarkoittaa vain alue väli#aikainen suojelu muu etsijö ei juuri muu - ei edes monttu kaivelu mutta jos alue löytyä maasto#kartoitus ja geofysikaalinen mittaus peruste niin lupaava kohde että se selvitteleminen tarvita tutkimus#oja kaivaminen tai syvä#kairaus tarvita malmi#netsintä#lupa ja koska se joutua maksaa maan#omistaja euro hehtaari jo neljä ensimmäinen vuosi hehtaari#hinta vielä nousta jatko ei tämä alue voida olla kuin murto osa alku#peräinen varaus silti keski#määrin vain malminetsintä sijoittaa vara johtaa kaivos avaaminen joten melko rauha saada mökki#läinen yö nukkua', 'kriittinen luonnon#vara maailma tulla jatko yhä selkeästi olla puhdas vesi siksi luulla olla päivän#selvä että järvi#alue ei voida perustaa kaivos päijänne vesi juoda miljoona suomalainen se olla riittävä peruste välittömästi kieltää kaikki kaivos#toiminta liittyä päijänne vesistö alue']\n",
    "clean_docs = [doc.replace(\"#\", \" \") for doc in docs]\n",
    "# input: list of preprocessed texts\n",
    "        "
   ]
  },
  {
   "cell_type": "code",
   "execution_count": 40,
   "id": "2355c142-33c8-4cc7-b90b-ec92715ee5d4",
   "metadata": {},
   "outputs": [
    {
     "data": {
      "text/plain": [
       "0    kemian tekniikka kemian tekniikka olla prosess...\n",
       "1    päivä lumi kuuro jono etelä rannikko kireä pak...\n",
       "2    lerppa Kekkos-elokuva muhkea tuotanto tuki näi...\n",
       "3    sinuhe egyptiläinen Michael Curtaza ohjata yhd...\n",
       "4    tämä vuosi rakentaminen jatkaa supistuminen 3 ...\n",
       "Name: lemmatized_text, dtype: object"
      ]
     },
     "execution_count": 40,
     "metadata": {},
     "output_type": "execute_result"
    }
   ],
   "source": [
    "df = pd.read_csv(\"lemmatized_finnish_sample.csv\")\n",
    "lemmatized_text = df[\"lemmatized_text\"]\n",
    "clean_lemmatized_text = lemmatized_text.str.replace('#', ' ', regex=False)\n",
    "clean_lemmatized_text.head()\n"
   ]
  },
  {
   "cell_type": "code",
   "execution_count": 67,
   "id": "9e943927-b1b0-45b3-88f4-d8c71d67f0ce",
   "metadata": {},
   "outputs": [],
   "source": [
    "embedding_model = SentenceTransformer(\"paraphrase-multilingual-MiniLM-L12-v2\") # This is MinimML, creates vector/embedding according to semantic meaning"
   ]
  },
  {
   "cell_type": "code",
   "execution_count": 42,
   "id": "90c57ef9-c432-4dcb-8fa3-1be6c4caf05a",
   "metadata": {},
   "outputs": [],
   "source": [
    "topic_model = BERTopic(embedding_model=embedding_model)\n",
    "topics, probs = topic_model.fit_transform(clean_lemmatized_text)\n"
   ]
  },
  {
   "cell_type": "code",
   "execution_count": 43,
   "id": "69ac918c-5b9a-4ada-8ee2-a12e14397f4f",
   "metadata": {},
   "outputs": [
    {
     "data": {
      "text/html": [
       "<div>\n",
       "<style scoped>\n",
       "    .dataframe tbody tr th:only-of-type {\n",
       "        vertical-align: middle;\n",
       "    }\n",
       "\n",
       "    .dataframe tbody tr th {\n",
       "        vertical-align: top;\n",
       "    }\n",
       "\n",
       "    .dataframe thead th {\n",
       "        text-align: right;\n",
       "    }\n",
       "</style>\n",
       "<table border=\"1\" class=\"dataframe\">\n",
       "  <thead>\n",
       "    <tr style=\"text-align: right;\">\n",
       "      <th></th>\n",
       "      <th>Topic</th>\n",
       "      <th>Count</th>\n",
       "      <th>Name</th>\n",
       "      <th>Representation</th>\n",
       "      <th>Representative_Docs</th>\n",
       "    </tr>\n",
       "  </thead>\n",
       "  <tbody>\n",
       "    <tr>\n",
       "      <th>0</th>\n",
       "      <td>-1</td>\n",
       "      <td>131</td>\n",
       "      <td>-1_olla_ja_ei_se</td>\n",
       "      <td>[olla, ja, ei, se, joka, että, tämä, työ, vuos...</td>\n",
       "      <td>[keski viikko 27. marraskuu 2013 sivallus cclx...</td>\n",
       "    </tr>\n",
       "    <tr>\n",
       "      <th>1</th>\n",
       "      <td>0</td>\n",
       "      <td>28</td>\n",
       "      <td>0_ja_olla_tieto_ohjelma</td>\n",
       "      <td>[ja, olla, tieto, ohjelma, yritys, se, joka, v...</td>\n",
       "      <td>[tulevaisuus toimitila markkinat muutos voima ...</td>\n",
       "    </tr>\n",
       "    <tr>\n",
       "      <th>2</th>\n",
       "      <td>1</td>\n",
       "      <td>14</td>\n",
       "      <td>1_ja_kaava_olla_hitsaus</td>\n",
       "      <td>[ja, kaava, olla, hitsaus, alue, teräs, kunta,...</td>\n",
       "      <td>[tämä vuosi rakentaminen jatkaa supistuminen 3...</td>\n",
       "    </tr>\n",
       "    <tr>\n",
       "      <th>3</th>\n",
       "      <td>2</td>\n",
       "      <td>14</td>\n",
       "      <td>2_olla_ja_se_minä</td>\n",
       "      <td>[olla, ja, se, minä, ei, hän, kun, tieto, että...</td>\n",
       "      <td>[järjestö positiivinen mieli Salo vappu 2014 H...</td>\n",
       "    </tr>\n",
       "    <tr>\n",
       "      <th>4</th>\n",
       "      <td>3</td>\n",
       "      <td>13</td>\n",
       "      <td>3_ydin_voima_olla_uraani</td>\n",
       "      <td>[ydin, voima, olla, uraani, ja, reaktori, aine...</td>\n",
       "      <td>[lainaus pahin mahdollinen skenaario 10 kilo t...</td>\n",
       "    </tr>\n",
       "  </tbody>\n",
       "</table>\n",
       "</div>"
      ],
      "text/plain": [
       "   Topic  Count                      Name  \\\n",
       "0     -1    131          -1_olla_ja_ei_se   \n",
       "1      0     28   0_ja_olla_tieto_ohjelma   \n",
       "2      1     14   1_ja_kaava_olla_hitsaus   \n",
       "3      2     14         2_olla_ja_se_minä   \n",
       "4      3     13  3_ydin_voima_olla_uraani   \n",
       "\n",
       "                                      Representation  \\\n",
       "0  [olla, ja, ei, se, joka, että, tämä, työ, vuos...   \n",
       "1  [ja, olla, tieto, ohjelma, yritys, se, joka, v...   \n",
       "2  [ja, kaava, olla, hitsaus, alue, teräs, kunta,...   \n",
       "3  [olla, ja, se, minä, ei, hän, kun, tieto, että...   \n",
       "4  [ydin, voima, olla, uraani, ja, reaktori, aine...   \n",
       "\n",
       "                                 Representative_Docs  \n",
       "0  [keski viikko 27. marraskuu 2013 sivallus cclx...  \n",
       "1  [tulevaisuus toimitila markkinat muutos voima ...  \n",
       "2  [tämä vuosi rakentaminen jatkaa supistuminen 3...  \n",
       "3  [järjestö positiivinen mieli Salo vappu 2014 H...  \n",
       "4  [lainaus pahin mahdollinen skenaario 10 kilo t...  "
      ]
     },
     "execution_count": 43,
     "metadata": {},
     "output_type": "execute_result"
    }
   ],
   "source": [
    "topic_model.get_topic_info()"
   ]
  },
  {
   "cell_type": "code",
   "execution_count": 45,
   "id": "28f6eb95-26eb-4181-8b39-d9f52b3a8f5e",
   "metadata": {},
   "outputs": [
    {
     "name": "stdout",
     "output_type": "stream",
     "text": [
      "[-1, 0, 1, 2, 3]\n"
     ]
    }
   ],
   "source": [
    "topic_info = topic_model.get_topic_info()\n",
    "topic_numbers = topic_info[\"Topic\"].tolist()\n",
    "print(topic_numbers)"
   ]
  },
  {
   "cell_type": "code",
   "execution_count": 46,
   "id": "7c179ced-f5dd-47ca-82cf-4702ab2816d5",
   "metadata": {},
   "outputs": [
    {
     "data": {
      "text/plain": [
       "[('ydin', 0.14664427409047534),\n",
       " ('voima', 0.07237759635978841),\n",
       " ('olla', 0.06847782530143434),\n",
       " ('uraani', 0.052648132131319324),\n",
       " ('ja', 0.050422416598053355),\n",
       " ('reaktori', 0.04598407159260622),\n",
       " ('aine', 0.04496575439529192),\n",
       " ('poltto', 0.04084203627407851),\n",
       " ('energia', 0.03405733880291669),\n",
       " ('se', 0.03172532260772479)]"
      ]
     },
     "execution_count": 46,
     "metadata": {},
     "output_type": "execute_result"
    }
   ],
   "source": [
    "topic_model.get_topic(-1)\n",
    "topic_model.get_topic(0)\n",
    "topic_model.get_topic(1)\n",
    "topic_model.get_topic(2)\n",
    "topic_model.get_topic(3)"
   ]
  },
  {
   "cell_type": "code",
   "execution_count": 64,
   "id": "4d0b7b62-21cc-4082-abd3-36e619f30899",
   "metadata": {},
   "outputs": [
    {
     "name": "stdout",
     "output_type": "stream",
     "text": [
      "Index(['Document', 'Topic', 'Name', 'Representation', 'Representative_Docs',\n",
      "       'Top_n_words', 'Probability', 'Representative_document'],\n",
      "      dtype='object')\n",
      "Topic\n",
      "-1    131\n",
      " 0     28\n",
      " 1     14\n",
      " 2     14\n",
      " 3     13\n",
      "Name: count, dtype: int64\n"
     ]
    }
   ],
   "source": [
    "clean_lemmatized_text_topic = topic_model.get_document_info(clean_lemmatized_text)\n",
    "print(clean_lemmatized_text_topic.columns)\n",
    "print(clean_lemmatized_text_topic['Topic'].value_counts())"
   ]
  },
  {
   "cell_type": "code",
   "execution_count": 61,
   "id": "5487569e-48ca-4d29-8a98-3b6926d5d5db",
   "metadata": {},
   "outputs": [
    {
     "name": "stdout",
     "output_type": "stream",
     "text": [
      "65\n"
     ]
    }
   ],
   "source": [
    "# 'Representation' = top keywords that describe the topic assigned to the document\n",
    "# 'Representative_Docs' = A list of documents that best represent the topic\n",
    "# 'Top_n_words' = The top n words (default: 10) from the document itself,\n",
    "# 'Probability' = A confidence score (0 to 1) showing how well the document fits its assigned topic\n",
    "print((clean_lemmatized_text_topic['Probability'] > 0.9).sum())"
   ]
  },
  {
   "cell_type": "code",
   "execution_count": 62,
   "id": "3e66c345-bc52-4efc-80b0-4d0e165bc3bf",
   "metadata": {},
   "outputs": [
    {
     "name": "stdout",
     "output_type": "stream",
     "text": [
      "                                              Document  Topic  \\\n",
      "0    kemian tekniikka kemian tekniikka olla prosess...     -1   \n",
      "1    päivä lumi kuuro jono etelä rannikko kireä pak...     -1   \n",
      "2    lerppa Kekkos-elokuva muhkea tuotanto tuki näi...     -1   \n",
      "3    sinuhe egyptiläinen Michael Curtaza ohjata yhd...     -1   \n",
      "4    tämä vuosi rakentaminen jatkaa supistuminen 3 ...      1   \n",
      "..                                                 ...    ...   \n",
      "195  Pariisi saada tarve – kiistellyt lemmen luko s...     -1   \n",
      "196  tieto kone tabletti ja äly puhelin olla nyky p...      0   \n",
      "197  valo olla parhaimmillaan ilmeikkä tyylikkä ja ...     -1   \n",
      "198  eniten haetu vastaus uusi lisäys travia answer...     -1   \n",
      "199  Räsänen dopinglää käri rankempi rangaistus dop...     -1   \n",
      "\n",
      "                        Name  \\\n",
      "0           -1_olla_ja_ei_se   \n",
      "1           -1_olla_ja_ei_se   \n",
      "2           -1_olla_ja_ei_se   \n",
      "3           -1_olla_ja_ei_se   \n",
      "4    1_ja_kaava_olla_hitsaus   \n",
      "..                       ...   \n",
      "195         -1_olla_ja_ei_se   \n",
      "196  0_ja_olla_tieto_ohjelma   \n",
      "197         -1_olla_ja_ei_se   \n",
      "198         -1_olla_ja_ei_se   \n",
      "199         -1_olla_ja_ei_se   \n",
      "\n",
      "                                        Representation  \\\n",
      "0    [olla, ja, ei, se, joka, että, tämä, työ, vuos...   \n",
      "1    [olla, ja, ei, se, joka, että, tämä, työ, vuos...   \n",
      "2    [olla, ja, ei, se, joka, että, tämä, työ, vuos...   \n",
      "3    [olla, ja, ei, se, joka, että, tämä, työ, vuos...   \n",
      "4    [ja, kaava, olla, hitsaus, alue, teräs, kunta,...   \n",
      "..                                                 ...   \n",
      "195  [olla, ja, ei, se, joka, että, tämä, työ, vuos...   \n",
      "196  [ja, olla, tieto, ohjelma, yritys, se, joka, v...   \n",
      "197  [olla, ja, ei, se, joka, että, tämä, työ, vuos...   \n",
      "198  [olla, ja, ei, se, joka, että, tämä, työ, vuos...   \n",
      "199  [olla, ja, ei, se, joka, että, tämä, työ, vuos...   \n",
      "\n",
      "                                   Representative_Docs  \\\n",
      "0    [keski viikko 27. marraskuu 2013 sivallus cclx...   \n",
      "1    [keski viikko 27. marraskuu 2013 sivallus cclx...   \n",
      "2    [keski viikko 27. marraskuu 2013 sivallus cclx...   \n",
      "3    [keski viikko 27. marraskuu 2013 sivallus cclx...   \n",
      "4    [tämä vuosi rakentaminen jatkaa supistuminen 3...   \n",
      "..                                                 ...   \n",
      "195  [keski viikko 27. marraskuu 2013 sivallus cclx...   \n",
      "196  [tulevaisuus toimitila markkinat muutos voima ...   \n",
      "197  [keski viikko 27. marraskuu 2013 sivallus cclx...   \n",
      "198  [keski viikko 27. marraskuu 2013 sivallus cclx...   \n",
      "199  [keski viikko 27. marraskuu 2013 sivallus cclx...   \n",
      "\n",
      "                                           Top_n_words  Probability  \\\n",
      "0    olla - ja - ei - se - joka - että - tämä - työ...     0.000000   \n",
      "1    olla - ja - ei - se - joka - että - tämä - työ...     0.000000   \n",
      "2    olla - ja - ei - se - joka - että - tämä - työ...     0.000000   \n",
      "3    olla - ja - ei - se - joka - että - tämä - työ...     0.000000   \n",
      "4    ja - kaava - olla - hitsaus - alue - teräs - k...     1.000000   \n",
      "..                                                 ...          ...   \n",
      "195  olla - ja - ei - se - joka - että - tämä - työ...     0.000000   \n",
      "196  ja - olla - tieto - ohjelma - yritys - se - jo...     0.950998   \n",
      "197  olla - ja - ei - se - joka - että - tämä - työ...     0.000000   \n",
      "198  olla - ja - ei - se - joka - että - tämä - työ...     0.000000   \n",
      "199  olla - ja - ei - se - joka - että - tämä - työ...     0.000000   \n",
      "\n",
      "     Representative_document  \n",
      "0                      False  \n",
      "1                      False  \n",
      "2                      False  \n",
      "3                      False  \n",
      "4                       True  \n",
      "..                       ...  \n",
      "195                    False  \n",
      "196                    False  \n",
      "197                    False  \n",
      "198                    False  \n",
      "199                    False  \n",
      "\n",
      "[200 rows x 8 columns]\n"
     ]
    }
   ],
   "source": [
    "print(clean_lemmatized_text_topic)"
   ]
  },
  {
   "cell_type": "code",
   "execution_count": 65,
   "id": "fd171080-b9a2-44f8-82d4-fd6536b843ad",
   "metadata": {},
   "outputs": [
    {
     "name": "stdout",
     "output_type": "stream",
     "text": [
      "5\n"
     ]
    }
   ],
   "source": [
    "print(topic_model.umap_model.n_components)  # Usually 5\n"
   ]
  },
  {
   "cell_type": "code",
   "execution_count": null,
   "id": "5f7d8027-c041-41c1-bac5-a98e6255f9d8",
   "metadata": {},
   "outputs": [],
   "source": []
  }
 ],
 "metadata": {
  "kernelspec": {
   "display_name": "bertopic_env",
   "language": "python",
   "name": "bertopic_env"
  },
  "language_info": {
   "codemirror_mode": {
    "name": "ipython",
    "version": 3
   },
   "file_extension": ".py",
   "mimetype": "text/x-python",
   "name": "python",
   "nbconvert_exporter": "python",
   "pygments_lexer": "ipython3",
   "version": "3.10.16"
  }
 },
 "nbformat": 4,
 "nbformat_minor": 5
}
